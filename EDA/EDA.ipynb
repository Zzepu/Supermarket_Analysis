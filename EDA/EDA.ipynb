{
 "cells": [
  {
   "cell_type": "markdown",
   "metadata": {},
   "source": [
    "## Proceso EDA (Analisis Exploratorio de Datos)"
   ]
  },
  {
   "cell_type": "markdown",
   "metadata": {},
   "source": [
    "En este reporte se llevará a cabo una exploración detallada sobre las ventas de los Supermercados. La meta principal consiste en comprender la organización de estos datos, detectar posibles patrones y recopilar información significativa que pueda servir como guía para tal vez hacer un posible dashboard a futuro."
   ]
  },
  {
   "cell_type": "markdown",
   "metadata": {},
   "source": [
    "### Importacion de bibliotecas"
   ]
  },
  {
   "cell_type": "code",
   "execution_count": 1,
   "metadata": {},
   "outputs": [],
   "source": [
    "import pandas as pd\n",
    "import matplotlib.pyplot as plt\n",
    "import seaborn as sns\n",
    "import warnings\n",
    "\n",
    "### Desactivar los warnings\n",
    "warnings.filterwarnings('ignore')"
   ]
  },
  {
   "cell_type": "markdown",
   "metadata": {},
   "source": [
    "### Lectura de Datos"
   ]
  },
  {
   "cell_type": "code",
   "execution_count": 4,
   "metadata": {},
   "outputs": [],
   "source": [
    "# Configurar la opción de visualización para evitar notación científica\n",
    "pd.set_option('display.float_format', lambda x: '%.0f' % x)\n",
    "\n",
    "df_market = pd.read_csv('supermarket_sales.csv')"
   ]
  },
  {
   "cell_type": "markdown",
   "metadata": {},
   "source": [
    "### Estructura del DataFrame\n",
    "\n",
    "Visualizamos las primeras filas del dataframe"
   ]
  },
  {
   "cell_type": "code",
   "execution_count": 5,
   "metadata": {},
   "outputs": [
    {
     "data": {
      "text/html": [
       "<div>\n",
       "<style scoped>\n",
       "    .dataframe tbody tr th:only-of-type {\n",
       "        vertical-align: middle;\n",
       "    }\n",
       "\n",
       "    .dataframe tbody tr th {\n",
       "        vertical-align: top;\n",
       "    }\n",
       "\n",
       "    .dataframe thead th {\n",
       "        text-align: right;\n",
       "    }\n",
       "</style>\n",
       "<table border=\"1\" class=\"dataframe\">\n",
       "  <thead>\n",
       "    <tr style=\"text-align: right;\">\n",
       "      <th></th>\n",
       "      <th>Invoice ID</th>\n",
       "      <th>Branch</th>\n",
       "      <th>City</th>\n",
       "      <th>Customer type</th>\n",
       "      <th>Gender</th>\n",
       "      <th>Product line</th>\n",
       "      <th>Unit price</th>\n",
       "      <th>Quantity</th>\n",
       "      <th>Tax 5%</th>\n",
       "      <th>Total</th>\n",
       "      <th>Date</th>\n",
       "      <th>Time</th>\n",
       "      <th>Payment</th>\n",
       "      <th>cogs</th>\n",
       "      <th>gross margin percentage</th>\n",
       "      <th>gross income</th>\n",
       "      <th>Rating</th>\n",
       "    </tr>\n",
       "  </thead>\n",
       "  <tbody>\n",
       "    <tr>\n",
       "      <th>0</th>\n",
       "      <td>750-67-8428</td>\n",
       "      <td>A</td>\n",
       "      <td>Yangon</td>\n",
       "      <td>Member</td>\n",
       "      <td>Female</td>\n",
       "      <td>Health and beauty</td>\n",
       "      <td>75</td>\n",
       "      <td>7</td>\n",
       "      <td>26</td>\n",
       "      <td>549</td>\n",
       "      <td>1/5/2019</td>\n",
       "      <td>13:08</td>\n",
       "      <td>Ewallet</td>\n",
       "      <td>523</td>\n",
       "      <td>5</td>\n",
       "      <td>26</td>\n",
       "      <td>9</td>\n",
       "    </tr>\n",
       "    <tr>\n",
       "      <th>1</th>\n",
       "      <td>226-31-3081</td>\n",
       "      <td>C</td>\n",
       "      <td>Naypyitaw</td>\n",
       "      <td>Normal</td>\n",
       "      <td>Female</td>\n",
       "      <td>Electronic accessories</td>\n",
       "      <td>15</td>\n",
       "      <td>5</td>\n",
       "      <td>4</td>\n",
       "      <td>80</td>\n",
       "      <td>3/8/2019</td>\n",
       "      <td>10:29</td>\n",
       "      <td>Cash</td>\n",
       "      <td>76</td>\n",
       "      <td>5</td>\n",
       "      <td>4</td>\n",
       "      <td>10</td>\n",
       "    </tr>\n",
       "    <tr>\n",
       "      <th>2</th>\n",
       "      <td>631-41-3108</td>\n",
       "      <td>A</td>\n",
       "      <td>Yangon</td>\n",
       "      <td>Normal</td>\n",
       "      <td>Male</td>\n",
       "      <td>Home and lifestyle</td>\n",
       "      <td>46</td>\n",
       "      <td>7</td>\n",
       "      <td>16</td>\n",
       "      <td>341</td>\n",
       "      <td>3/3/2019</td>\n",
       "      <td>13:23</td>\n",
       "      <td>Credit card</td>\n",
       "      <td>324</td>\n",
       "      <td>5</td>\n",
       "      <td>16</td>\n",
       "      <td>7</td>\n",
       "    </tr>\n",
       "    <tr>\n",
       "      <th>3</th>\n",
       "      <td>123-19-1176</td>\n",
       "      <td>A</td>\n",
       "      <td>Yangon</td>\n",
       "      <td>Member</td>\n",
       "      <td>Male</td>\n",
       "      <td>Health and beauty</td>\n",
       "      <td>58</td>\n",
       "      <td>8</td>\n",
       "      <td>23</td>\n",
       "      <td>489</td>\n",
       "      <td>1/27/2019</td>\n",
       "      <td>20:33</td>\n",
       "      <td>Ewallet</td>\n",
       "      <td>466</td>\n",
       "      <td>5</td>\n",
       "      <td>23</td>\n",
       "      <td>8</td>\n",
       "    </tr>\n",
       "    <tr>\n",
       "      <th>4</th>\n",
       "      <td>373-73-7910</td>\n",
       "      <td>A</td>\n",
       "      <td>Yangon</td>\n",
       "      <td>Normal</td>\n",
       "      <td>Male</td>\n",
       "      <td>Sports and travel</td>\n",
       "      <td>86</td>\n",
       "      <td>7</td>\n",
       "      <td>30</td>\n",
       "      <td>634</td>\n",
       "      <td>2/8/2019</td>\n",
       "      <td>10:37</td>\n",
       "      <td>Ewallet</td>\n",
       "      <td>604</td>\n",
       "      <td>5</td>\n",
       "      <td>30</td>\n",
       "      <td>5</td>\n",
       "    </tr>\n",
       "  </tbody>\n",
       "</table>\n",
       "</div>"
      ],
      "text/plain": [
       "    Invoice ID Branch       City Customer type  Gender  \\\n",
       "0  750-67-8428      A     Yangon        Member  Female   \n",
       "1  226-31-3081      C  Naypyitaw        Normal  Female   \n",
       "2  631-41-3108      A     Yangon        Normal    Male   \n",
       "3  123-19-1176      A     Yangon        Member    Male   \n",
       "4  373-73-7910      A     Yangon        Normal    Male   \n",
       "\n",
       "             Product line  Unit price  Quantity  Tax 5%  Total       Date  \\\n",
       "0       Health and beauty          75         7      26    549   1/5/2019   \n",
       "1  Electronic accessories          15         5       4     80   3/8/2019   \n",
       "2      Home and lifestyle          46         7      16    341   3/3/2019   \n",
       "3       Health and beauty          58         8      23    489  1/27/2019   \n",
       "4       Sports and travel          86         7      30    634   2/8/2019   \n",
       "\n",
       "    Time      Payment  cogs  gross margin percentage  gross income  Rating  \n",
       "0  13:08      Ewallet   523                        5            26       9  \n",
       "1  10:29         Cash    76                        5             4      10  \n",
       "2  13:23  Credit card   324                        5            16       7  \n",
       "3  20:33      Ewallet   466                        5            23       8  \n",
       "4  10:37      Ewallet   604                        5            30       5  "
      ]
     },
     "execution_count": 5,
     "metadata": {},
     "output_type": "execute_result"
    }
   ],
   "source": [
    "df_market.head(5)"
   ]
  },
  {
   "cell_type": "markdown",
   "metadata": {},
   "source": [
    "### Tipos de Datos"
   ]
  },
  {
   "cell_type": "code",
   "execution_count": 6,
   "metadata": {},
   "outputs": [
    {
     "name": "stdout",
     "output_type": "stream",
     "text": [
      "\n",
      "Tipos de datos:\n"
     ]
    },
    {
     "data": {
      "text/plain": [
       "Invoice ID                  object\n",
       "Branch                      object\n",
       "City                        object\n",
       "Customer type               object\n",
       "Gender                      object\n",
       "Product line                object\n",
       "Unit price                 float64\n",
       "Quantity                     int64\n",
       "Tax 5%                     float64\n",
       "Total                      float64\n",
       "Date                        object\n",
       "Time                        object\n",
       "Payment                     object\n",
       "cogs                       float64\n",
       "gross margin percentage    float64\n",
       "gross income               float64\n",
       "Rating                     float64\n",
       "dtype: object"
      ]
     },
     "execution_count": 6,
     "metadata": {},
     "output_type": "execute_result"
    }
   ],
   "source": [
    "print(\"\\nTipos de datos:\")\n",
    "df_market.dtypes ### Muestra los tipos de datos de cada columna"
   ]
  },
  {
   "cell_type": "markdown",
   "metadata": {},
   "source": [
    "### Reemplazo de Datos\n",
    "\n",
    "Vamos a modificar la columna 'Branch' para que cada letra signifique una marca diferente."
   ]
  },
  {
   "cell_type": "code",
   "execution_count": 8,
   "metadata": {},
   "outputs": [
    {
     "name": "stdout",
     "output_type": "stream",
     "text": [
      "DataFrame original:\n",
      "      Invoice ID Branch       City Customer type  Gender  \\\n",
      "0    750-67-8428      A     Yangon        Member  Female   \n",
      "1    226-31-3081      C  Naypyitaw        Normal  Female   \n",
      "2    631-41-3108      A     Yangon        Normal    Male   \n",
      "3    123-19-1176      A     Yangon        Member    Male   \n",
      "4    373-73-7910      A     Yangon        Normal    Male   \n",
      "..           ...    ...        ...           ...     ...   \n",
      "995  233-67-5758      C  Naypyitaw        Normal    Male   \n",
      "996  303-96-2227      B   Mandalay        Normal  Female   \n",
      "997  727-02-1313      A     Yangon        Member    Male   \n",
      "998  347-56-2442      A     Yangon        Normal    Male   \n",
      "999  849-09-3807      A     Yangon        Member  Female   \n",
      "\n",
      "               Product line  Unit price  Quantity  Tax 5%  Total       Date  \\\n",
      "0         Health and beauty          75         7      26    549   1/5/2019   \n",
      "1    Electronic accessories          15         5       4     80   3/8/2019   \n",
      "2        Home and lifestyle          46         7      16    341   3/3/2019   \n",
      "3         Health and beauty          58         8      23    489  1/27/2019   \n",
      "4         Sports and travel          86         7      30    634   2/8/2019   \n",
      "..                      ...         ...       ...     ...    ...        ...   \n",
      "995       Health and beauty          40         1       2     42  1/29/2019   \n",
      "996      Home and lifestyle          97        10      49   1022   3/2/2019   \n",
      "997      Food and beverages          32         1       2     33   2/9/2019   \n",
      "998      Home and lifestyle          66         1       3     69  2/22/2019   \n",
      "999     Fashion accessories          88         7      31    649  2/18/2019   \n",
      "\n",
      "      Time      Payment  cogs  gross margin percentage  gross income  Rating  \n",
      "0    13:08      Ewallet   523                        5            26       9  \n",
      "1    10:29         Cash    76                        5             4      10  \n",
      "2    13:23  Credit card   324                        5            16       7  \n",
      "3    20:33      Ewallet   466                        5            23       8  \n",
      "4    10:37      Ewallet   604                        5            30       5  \n",
      "..     ...          ...   ...                      ...           ...     ...  \n",
      "995  13:46      Ewallet    40                        5             2       6  \n",
      "996  17:16      Ewallet   974                        5            49       4  \n",
      "997  13:22         Cash    32                        5             2       8  \n",
      "998  15:33         Cash    66                        5             3       4  \n",
      "999  13:28         Cash   618                        5            31       7  \n",
      "\n",
      "[1000 rows x 17 columns]\n",
      "\n",
      "DataFrame con valores cambiados:\n",
      "      Invoice ID      Branch       City Customer type  Gender  \\\n",
      "0    750-67-8428      Adidas     Yangon        Member  Female   \n",
      "1    226-31-3081     Cartier  Naypyitaw        Normal  Female   \n",
      "2    631-41-3108      Adidas     Yangon        Normal    Male   \n",
      "3    123-19-1176      Adidas     Yangon        Member    Male   \n",
      "4    373-73-7910      Adidas     Yangon        Normal    Male   \n",
      "..           ...         ...        ...           ...     ...   \n",
      "995  233-67-5758     Cartier  Naypyitaw        Normal    Male   \n",
      "996  303-96-2227  Balenciaga   Mandalay        Normal  Female   \n",
      "997  727-02-1313      Adidas     Yangon        Member    Male   \n",
      "998  347-56-2442      Adidas     Yangon        Normal    Male   \n",
      "999  849-09-3807      Adidas     Yangon        Member  Female   \n",
      "\n",
      "               Product line  Unit price  Quantity  Tax 5%  Total       Date  \\\n",
      "0         Health and beauty          75         7      26    549   1/5/2019   \n",
      "1    Electronic accessories          15         5       4     80   3/8/2019   \n",
      "2        Home and lifestyle          46         7      16    341   3/3/2019   \n",
      "3         Health and beauty          58         8      23    489  1/27/2019   \n",
      "4         Sports and travel          86         7      30    634   2/8/2019   \n",
      "..                      ...         ...       ...     ...    ...        ...   \n",
      "995       Health and beauty          40         1       2     42  1/29/2019   \n",
      "996      Home and lifestyle          97        10      49   1022   3/2/2019   \n",
      "997      Food and beverages          32         1       2     33   2/9/2019   \n",
      "998      Home and lifestyle          66         1       3     69  2/22/2019   \n",
      "999     Fashion accessories          88         7      31    649  2/18/2019   \n",
      "\n",
      "      Time      Payment  cogs  gross margin percentage  gross income  Rating  \n",
      "0    13:08      Ewallet   523                        5            26       9  \n",
      "1    10:29         Cash    76                        5             4      10  \n",
      "2    13:23  Credit card   324                        5            16       7  \n",
      "3    20:33      Ewallet   466                        5            23       8  \n",
      "4    10:37      Ewallet   604                        5            30       5  \n",
      "..     ...          ...   ...                      ...           ...     ...  \n",
      "995  13:46      Ewallet    40                        5             2       6  \n",
      "996  17:16      Ewallet   974                        5            49       4  \n",
      "997  13:22         Cash    32                        5             2       8  \n",
      "998  15:33         Cash    66                        5             3       4  \n",
      "999  13:28         Cash   618                        5            31       7  \n",
      "\n",
      "[1000 rows x 17 columns]\n"
     ]
    }
   ],
   "source": [
    "### Mostramos el DataFrame original previo a hacer los cambios\n",
    "print(\"DataFrame original:\")\n",
    "print(df_market)\n",
    "\n",
    "### Creamos un diccionario de mapeo para los cambios\n",
    "mapeo = {'A': 'Adidas', 'B': 'Balenciaga', 'C': 'Cartier'}\n",
    "\n",
    "### Reemplazo los valores en la columna 'Branch' usando el diccionario de mapeo\n",
    "df_market['Branch'] = df_market['Branch'].replace(mapeo)\n",
    "\n",
    "### Muestro el DataFrame con los valores cambiados\n",
    "print(\"\\nDataFrame con valores cambiados:\")\n",
    "print(df_market)\n"
   ]
  },
  {
   "cell_type": "markdown",
   "metadata": {},
   "source": [
    "### Valores Nulos"
   ]
  },
  {
   "cell_type": "code",
   "execution_count": 12,
   "metadata": {},
   "outputs": [
    {
     "name": "stdout",
     "output_type": "stream",
     "text": [
      "\n",
      "Porcentaje de valores nulos en 'df_market':\n",
      "Invoice ID                 0.0 %\n",
      "Branch                     0.0 %\n",
      "City                       0.0 %\n",
      "Customer type              0.0 %\n",
      "Gender                     0.0 %\n",
      "Product line               0.0 %\n",
      "Unit price                 0.0 %\n",
      "Quantity                   0.0 %\n",
      "Tax 5%                     0.0 %\n",
      "Total                      0.0 %\n",
      "Date                       0.0 %\n",
      "Time                       0.0 %\n",
      "Payment                    0.0 %\n",
      "cogs                       0.0 %\n",
      "gross margin percentage    0.0 %\n",
      "gross income               0.0 %\n",
      "Rating                     0.0 %\n",
      "dtype: object\n"
     ]
    }
   ],
   "source": [
    "print(\"\\nPorcentaje de valores nulos en 'df_market':\")\n",
    "porcentaje_nulos_market = (df_market.isnull().sum() / df_market.shape[0]) * 100\n",
    "print(round(porcentaje_nulos_market, 2).astype(str) + ' %') ### Muestro la cantidad de valores nulos por columna"
   ]
  },
  {
   "cell_type": "markdown",
   "metadata": {},
   "source": [
    "### Cantidad de Filas y Columnas"
   ]
  },
  {
   "cell_type": "code",
   "execution_count": 13,
   "metadata": {},
   "outputs": [
    {
     "name": "stdout",
     "output_type": "stream",
     "text": [
      "Cantidad de filas y columnas en el dataframe 'df_market': (1000, 17)\n"
     ]
    }
   ],
   "source": [
    "### Cantidad de filas y columnas en el dataframe 'df_market'\n",
    "print(\"Cantidad de filas y columnas en el dataframe 'df_market':\", df_market.shape)"
   ]
  },
  {
   "cell_type": "markdown",
   "metadata": {},
   "source": [
    "### Filas Duplicadas"
   ]
  },
  {
   "cell_type": "code",
   "execution_count": 14,
   "metadata": {},
   "outputs": [
    {
     "name": "stdout",
     "output_type": "stream",
     "text": [
      "Cantidad de duplicados en el dataframe 'df_market': 0\n"
     ]
    }
   ],
   "source": [
    "# Verifico y muestro la cantidad de duplicados en el dataframe 'df_market'\n",
    "duplicados_market = df_market.duplicated().sum()\n",
    "print(\"Cantidad de duplicados en el dataframe 'df_market':\", duplicados_market)"
   ]
  }
 ],
 "metadata": {
  "kernelspec": {
   "display_name": "Python 3",
   "language": "python",
   "name": "python3"
  },
  "language_info": {
   "codemirror_mode": {
    "name": "ipython",
    "version": 3
   },
   "file_extension": ".py",
   "mimetype": "text/x-python",
   "name": "python",
   "nbconvert_exporter": "python",
   "pygments_lexer": "ipython3",
   "version": "3.12.2"
  }
 },
 "nbformat": 4,
 "nbformat_minor": 2
}
